{
 "cells": [
  {
   "cell_type": "code",
   "execution_count": 2,
   "id": "c3b13b7a-d946-4f33-b8b0-ff327dac2656",
   "metadata": {},
   "outputs": [],
   "source": [
    "import timm"
   ]
  },
  {
   "cell_type": "code",
   "execution_count": 3,
   "id": "e1ea35a1-46e9-4c6b-83bc-a17868a2afc9",
   "metadata": {},
   "outputs": [
    {
     "data": {
      "text/plain": [
       "(1599,\n",
       " ['aimv2_1b_patch14_224.apple_pt',\n",
       "  'aimv2_1b_patch14_336.apple_pt',\n",
       "  'aimv2_1b_patch14_448.apple_pt',\n",
       "  'aimv2_3b_patch14_224.apple_pt',\n",
       "  'aimv2_3b_patch14_336.apple_pt'])"
      ]
     },
     "execution_count": 3,
     "metadata": {},
     "output_type": "execute_result"
    }
   ],
   "source": [
    "avail_pretrained_models = timm.list_models(pretrained=True)\n",
    "len(avail_pretrained_models), avail_pretrained_models[:5]"
   ]
  },
  {
   "cell_type": "code",
   "execution_count": 23,
   "id": "f1cb261e-a319-47f4-b267-3385e5406e38",
   "metadata": {},
   "outputs": [
    {
     "data": {
      "text/plain": [
       "['bat_resnext26ts',\n",
       " 'cspresnext50',\n",
       " 'eca_resnext26ts',\n",
       " 'ecaresnext26t_32x4d',\n",
       " 'ecaresnext50t_32x4d',\n",
       " 'gcresnext26ts',\n",
       " 'gcresnext50ts',\n",
       " 'legacy_seresnext26_32x4d',\n",
       " 'legacy_seresnext50_32x4d',\n",
       " 'legacy_seresnext101_32x4d',\n",
       " 'resnext26ts',\n",
       " 'resnext50_32x4d',\n",
       " 'resnext50d_32x4d',\n",
       " 'resnext101_32x4d',\n",
       " 'resnext101_32x8d',\n",
       " 'resnext101_32x16d',\n",
       " 'resnext101_32x32d',\n",
       " 'resnext101_64x4d',\n",
       " 'seresnext26d_32x4d',\n",
       " 'seresnext26t_32x4d',\n",
       " 'seresnext26ts',\n",
       " 'seresnext50_32x4d',\n",
       " 'seresnext101_32x4d',\n",
       " 'seresnext101_32x8d',\n",
       " 'seresnext101_64x4d',\n",
       " 'seresnext101d_32x8d',\n",
       " 'seresnextaa101d_32x8d',\n",
       " 'seresnextaa201d_32x8d',\n",
       " 'skresnext50_32x4d']"
      ]
     },
     "execution_count": 23,
     "metadata": {},
     "output_type": "execute_result"
    }
   ],
   "source": [
    "all_densenet_models = timm.list_models('*resnext*')\n",
    "all_densenet_models"
   ]
  },
  {
   "cell_type": "code",
   "execution_count": 17,
   "id": "97147feb-d5cb-46fe-845a-50073ebae98a",
   "metadata": {},
   "outputs": [
    {
     "data": {
      "application/vnd.jupyter.widget-view+json": {
       "model_id": "c003858824664fa2aa52242132c00580",
       "version_major": 2,
       "version_minor": 0
      },
      "text/plain": [
       "model.safetensors:   0%|          | 0.00/86.7M [00:00<?, ?B/s]"
      ]
     },
     "metadata": {},
     "output_type": "display_data"
    }
   ],
   "source": [
    "m = timm.create_model(model_name='vit_small_patch8_224', pretrained=True)"
   ]
  },
  {
   "cell_type": "code",
   "execution_count": 20,
   "id": "c07d1237-c1b5-4460-bbba-570db4242d54",
   "metadata": {},
   "outputs": [],
   "source": [
    "# m"
   ]
  },
  {
   "cell_type": "code",
   "execution_count": 21,
   "id": "a06281d3-25d0-4f1c-8dbe-3344f871f19a",
   "metadata": {},
   "outputs": [],
   "source": [
    "# m.classifier"
   ]
  },
  {
   "cell_type": "code",
   "execution_count": null,
   "id": "f09a1a86-a036-459c-b642-2528f9c66e63",
   "metadata": {},
   "outputs": [],
   "source": []
  }
 ],
 "metadata": {
  "kernelspec": {
   "display_name": "Python 3 (ipykernel)",
   "language": "python",
   "name": "python3"
  },
  "language_info": {
   "codemirror_mode": {
    "name": "ipython",
    "version": 3
   },
   "file_extension": ".py",
   "mimetype": "text/x-python",
   "name": "python",
   "nbconvert_exporter": "python",
   "pygments_lexer": "ipython3",
   "version": "3.13.1"
  }
 },
 "nbformat": 4,
 "nbformat_minor": 5
}
