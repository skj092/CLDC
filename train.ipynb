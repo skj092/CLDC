{
 "cells": [
  {
   "cell_type": "code",
   "execution_count": null,
   "id": "dd2a0cfb-29fb-4fdd-9d97-b8e0f672ba1e",
   "metadata": {},
   "outputs": [
    {
     "name": "stderr",
     "output_type": "stream",
     "text": [
      "Seed set to 42\n",
      "GPU available: False, used: False\n",
      "TPU available: False, using: 0 TPU cores\n",
      "HPU available: False, using: 0 HPUs\n",
      "/home/sonu/codes/kaggle/CLDC/.venv/lib/python3.13/site-packages/pytorch_lightning/trainer/connectors/logger_connector/logger_connector.py:76: Starting from v1.9.0, `tensorboardX` has been removed as a dependency of the `pytorch_lightning` package, due to potential conflicts with other packages in the ML ecosystem. For this reason, `logger=True` will use `CSVLogger` as the default logger, unless the `tensorboard` or `tensorboardX` packages are found. Please `pip install lightning[extra]` or one of them to enable TensorBoard support by default\n",
      "\n",
      "  | Name      | Type             | Params | Mode \n",
      "-------------------------------------------------------\n",
      "0 | model     | ResNet           | 21.3 M | train\n",
      "1 | criterion | CrossEntropyLoss | 0      | train\n",
      "-------------------------------------------------------\n",
      "21.3 M    Trainable params\n",
      "0         Non-trainable params\n",
      "21.3 M    Total params\n",
      "85.149    Total estimated model params size (MB)\n",
      "167       Modules in train mode\n",
      "0         Modules in eval mode\n"
     ]
    },
    {
     "data": {
      "application/vnd.jupyter.widget-view+json": {
       "model_id": "48d7463939fa4dc1846be7bad2b25530",
       "version_major": 2,
       "version_minor": 0
      },
      "text/plain": [
       "Sanity Checking: |                                                                                            …"
      ]
     },
     "metadata": {},
     "output_type": "display_data"
    },
    {
     "name": "stderr",
     "output_type": "stream",
     "text": [
      "/home/sonu/codes/kaggle/CLDC/.venv/lib/python3.13/site-packages/pytorch_lightning/trainer/connectors/data_connector.py:425: The 'val_dataloader' does not have many workers which may be a bottleneck. Consider increasing the value of the `num_workers` argument` to `num_workers=21` in the `DataLoader` to improve performance.\n",
      "/home/sonu/codes/kaggle/CLDC/.venv/lib/python3.13/site-packages/pytorch_lightning/trainer/connectors/data_connector.py:425: The 'train_dataloader' does not have many workers which may be a bottleneck. Consider increasing the value of the `num_workers` argument` to `num_workers=21` in the `DataLoader` to improve performance.\n"
     ]
    },
    {
     "data": {
      "application/vnd.jupyter.widget-view+json": {
       "model_id": "ad67bf16655940b5aab194c6bb9730d8",
       "version_major": 2,
       "version_minor": 0
      },
      "text/plain": [
       "Training: |                                                                                                   …"
      ]
     },
     "metadata": {},
     "output_type": "display_data"
    }
   ],
   "source": [
    "import pandas as pd\n",
    "from pathlib import Path\n",
    "from sklearn.model_selection import train_test_split\n",
    "import albumentations as A\n",
    "from dataset import CData\n",
    "from torch.utils.data import DataLoader\n",
    "from model import ImageClassifier\n",
    "from pytorch_lightning.callbacks import ModelCheckpoint\n",
    "from pytorch_lightning import Trainer, seed_everything\n",
    "from pytorch_lightning.loggers import WandbLogger\n",
    "import wandb\n",
    "\n",
    "path = Path('data')\n",
    "TARGET_SIZE = 224  # Example input size\n",
    "BATCH_SIZE = 16\n",
    "use_wandb = False\n",
    "seed_everything(42)\n",
    "\n",
    "df = pd.read_csv(path/'train.csv')\n",
    "train_df, valid_df = train_test_split(df, test_size=0.2, stratify=df['label'])\n",
    "train_transform = A.Compose([\n",
    "    A.SmallestMaxSize(max_size=TARGET_SIZE, p=1.0),\n",
    "    A.RandomCrop(height=TARGET_SIZE, width=TARGET_SIZE, p=1.0),\n",
    "    A.HorizontalFlip(p=0.5),\n",
    "    A.Normalize(mean=[0.485, 0.456, 0.406], std=[0.229, 0.224, 0.225]),\n",
    "    A.ToTensorV2(),\n",
    "])\n",
    "val_transform = A.Compose([\n",
    "    A.SmallestMaxSize(max_size=TARGET_SIZE, p=1.0),\n",
    "    A.CenterCrop(height=TARGET_SIZE, width=TARGET_SIZE, p=1.0),\n",
    "    A.Normalize(mean=[0.485, 0.456, 0.406], std=[0.229, 0.224, 0.225]),\n",
    "    A.ToTensorV2(),\n",
    "])\n",
    "\n",
    "train_ds = CData(train_df, path/'train_images', train_transform)\n",
    "valid_ds = CData(valid_df, path/'train_images', train_transform)\n",
    "train_dl = DataLoader(train_ds, batch_size=BATCH_SIZE, shuffle=True)\n",
    "valid_dl = DataLoader(valid_ds, batch_size=BATCH_SIZE, shuffle=False)\n",
    "\n",
    "model = ImageClassifier(5, lr=1e-3)\n",
    "logger = WandbLogger(project=\"cassava-leaf-disease\",\n",
    "                     log_model=False) if use_wandb else None\n",
    "callbacks = [ModelCheckpoint(monitor='val_acc', mode='max', save_top_k=1)]\n",
    "trainer = Trainer(max_epochs=5, logger=logger,\n",
    "                  callbacks=callbacks, accelerator='auto', devices='auto')\n",
    "trainer.fit(model, train_dataloaders=train_dl,\n",
    "            val_dataloaders=valid_dl)\n",
    "if logger:\n",
    "    wandb.finish()"
   ]
  },
  {
   "cell_type": "code",
   "execution_count": null,
   "id": "5ff7cc3e-378d-437f-b680-a1a6f402eba2",
   "metadata": {},
   "outputs": [],
   "source": []
  }
 ],
 "metadata": {
  "kernelspec": {
   "display_name": "Python 3 (ipykernel)",
   "language": "python",
   "name": "python3"
  },
  "language_info": {
   "codemirror_mode": {
    "name": "ipython",
    "version": 3
   },
   "file_extension": ".py",
   "mimetype": "text/x-python",
   "name": "python",
   "nbconvert_exporter": "python",
   "pygments_lexer": "ipython3",
   "version": "3.13.1"
  }
 },
 "nbformat": 4,
 "nbformat_minor": 5
}
